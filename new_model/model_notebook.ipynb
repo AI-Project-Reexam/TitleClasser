{
 "cells": [
  {
   "cell_type": "code",
   "execution_count": 9,
   "id": "176c609b-3035-4431-8b5a-309369c93228",
   "metadata": {},
   "outputs": [],
   "source": [
    "import numpy as np\n",
    "import pandas as pd\n",
    "import re\n",
    "import spacy\n",
    "import joblib\n",
    "import sqlite3\n",
    "\n",
    "from sklearn.feature_extraction.text import TfidfVectorizer\n",
    "from sklearn.feature_extraction.text import TfidfVectorizer\n",
    "from sklearn.model_selection import train_test_split\n",
    "from sklearn.linear_model import LogisticRegression\n",
    "from sklearn.model_selection import cross_val_score\n",
    "\n",
    "con = sqlite3.connect(\"dataset.db\")"
   ]
  },
  {
   "cell_type": "code",
   "execution_count": 10,
   "id": "4a391ec9-b312-4d53-a063-e202465fa29f",
   "metadata": {},
   "outputs": [],
   "source": [
    "nlp = spacy.load(\"en_core_web_sm\")\n",
    "\n",
    "def preprocess_text(txt:str):\n",
    "    txt = re.sub('[^a-zA-Z]', ' ', txt) \n",
    "    txt = txt.lower()\n",
    "    txt = \" \".join(txt.split()) \n",
    "    \n",
    "    doc = nlp(txt)\n",
    "    \n",
    "    tokens_filtered = []\n",
    "    # Iterate through tokens and append to list if its not stop word or punctuation mark\n",
    "    for token in doc:\n",
    "        if token.is_stop or token.is_punct:\n",
    "            continue\n",
    "        tokens_filtered.append(token.lemma_)\n",
    "        \n",
    "    return \" \".join(tokens_filtered)"
   ]
  },
  {
   "cell_type": "code",
   "execution_count": 16,
   "id": "f100d569-3de8-41dc-ba05-00e3b222d045",
   "metadata": {},
   "outputs": [
    {
     "data": {
      "text/html": [
       "<div>\n",
       "<style scoped>\n",
       "    .dataframe tbody tr th:only-of-type {\n",
       "        vertical-align: middle;\n",
       "    }\n",
       "\n",
       "    .dataframe tbody tr th {\n",
       "        vertical-align: top;\n",
       "    }\n",
       "\n",
       "    .dataframe thead th {\n",
       "        text-align: right;\n",
       "    }\n",
       "</style>\n",
       "<table border=\"1\" class=\"dataframe\">\n",
       "  <thead>\n",
       "    <tr style=\"text-align: right;\">\n",
       "      <th></th>\n",
       "      <th>text</th>\n",
       "      <th>prep_text</th>\n",
       "      <th>label</th>\n",
       "    </tr>\n",
       "  </thead>\n",
       "  <tbody>\n",
       "    <tr>\n",
       "      <th>0</th>\n",
       "      <td>Budget to set scene for election  Gordon Brown...</td>\n",
       "      <td>budget set scene election gordon brown seek ec...</td>\n",
       "      <td>0</td>\n",
       "    </tr>\n",
       "    <tr>\n",
       "      <th>1</th>\n",
       "      <td>Army chiefs in regiments decision  Military ch...</td>\n",
       "      <td>army chief regiment decision military chief ex...</td>\n",
       "      <td>0</td>\n",
       "    </tr>\n",
       "    <tr>\n",
       "      <th>2</th>\n",
       "      <td>Howard denies split over ID cards  Michael How...</td>\n",
       "      <td>howard deny split d card michael howard deny s...</td>\n",
       "      <td>0</td>\n",
       "    </tr>\n",
       "    <tr>\n",
       "      <th>3</th>\n",
       "      <td>Observers to monitor UK election  Ministers wi...</td>\n",
       "      <td>observer monitor uk election minister invite i...</td>\n",
       "      <td>0</td>\n",
       "    </tr>\n",
       "    <tr>\n",
       "      <th>4</th>\n",
       "      <td>Kilroy names election seat target  Ex-chat sho...</td>\n",
       "      <td>kilroy name election seat target ex chat host ...</td>\n",
       "      <td>0</td>\n",
       "    </tr>\n",
       "  </tbody>\n",
       "</table>\n",
       "</div>"
      ],
      "text/plain": [
       "                                                text  \\\n",
       "0  Budget to set scene for election  Gordon Brown...   \n",
       "1  Army chiefs in regiments decision  Military ch...   \n",
       "2  Howard denies split over ID cards  Michael How...   \n",
       "3  Observers to monitor UK election  Ministers wi...   \n",
       "4  Kilroy names election seat target  Ex-chat sho...   \n",
       "\n",
       "                                           prep_text  label  \n",
       "0  budget set scene election gordon brown seek ec...      0  \n",
       "1  army chief regiment decision military chief ex...      0  \n",
       "2  howard deny split d card michael howard deny s...      0  \n",
       "3  observer monitor uk election minister invite i...      0  \n",
       "4  kilroy name election seat target ex chat host ...      0  "
      ]
     },
     "execution_count": 16,
     "metadata": {},
     "output_type": "execute_result"
    }
   ],
   "source": [
    "df = pd.read_sql_query(\"SELECT * FROM Dataset\", con)\n",
    "\n",
    "df.head()"
   ]
  },
  {
   "cell_type": "code",
   "execution_count": 18,
   "id": "95684168-24f9-4612-a090-f58994016d51",
   "metadata": {},
   "outputs": [],
   "source": [
    "vectorizer = TfidfVectorizer(sublinear_tf=True, min_df=5,ngram_range=(1, 2), stop_words='english')\n",
    "features = vectorizer.fit_transform(df['prep_text']).toarray()\n",
    "\n",
    "X = features\n",
    "y = df[\"label\"]\n",
    "\n",
    "X_train, X_test, y_train, y_test = train_test_split(X, y, test_size = 0.2, stratify = y)"
   ]
  },
  {
   "cell_type": "code",
   "execution_count": 19,
   "id": "4575149a-2f2b-434e-89c0-70390ea7bb54",
   "metadata": {},
   "outputs": [
    {
     "name": "stdout",
     "output_type": "stream",
     "text": [
      "Training score: [0.97653959 0.97647059 0.97941176 0.97352941 0.98235294]\n"
     ]
    },
    {
     "ename": "NameError",
     "evalue": "name 'avg_score' is not defined",
     "output_type": "error",
     "traceback": [
      "\u001b[0;31m---------------------------------------------------------------------------\u001b[0m",
      "\u001b[0;31mNameError\u001b[0m                                 Traceback (most recent call last)",
      "Cell \u001b[0;32mIn[19], line 15\u001b[0m\n\u001b[1;32m     12\u001b[0m training_score \u001b[38;5;241m=\u001b[39m cross_val_score(training_alg[\u001b[38;5;124m'\u001b[39m\u001b[38;5;124mmodel\u001b[39m\u001b[38;5;124m'\u001b[39m], X_train, y_train, cv\u001b[38;5;241m=\u001b[39m\u001b[38;5;241m5\u001b[39m, scoring\u001b[38;5;241m=\u001b[39m\u001b[38;5;124m'\u001b[39m\u001b[38;5;124maccuracy\u001b[39m\u001b[38;5;124m'\u001b[39m) \n\u001b[1;32m     14\u001b[0m \u001b[38;5;28mprint\u001b[39m(\u001b[38;5;124mf\u001b[39m\u001b[38;5;124m\"\u001b[39m\u001b[38;5;124mTraining score: \u001b[39m\u001b[38;5;132;01m{\u001b[39;00mtraining_score\u001b[38;5;132;01m}\u001b[39;00m\u001b[38;5;124m\"\u001b[39m)\n\u001b[0;32m---> 15\u001b[0m \u001b[38;5;28mprint\u001b[39m(\u001b[38;5;124mf\u001b[39m\u001b[38;5;124m\"\u001b[39m\u001b[38;5;124mAverage score: \u001b[39m\u001b[38;5;132;01m{\u001b[39;00mavg_score\u001b[38;5;132;01m}\u001b[39;00m\u001b[38;5;124m\"\u001b[39m)\n",
      "\u001b[0;31mNameError\u001b[0m: name 'avg_score' is not defined"
     ]
    }
   ],
   "source": [
    "training_alg = {'model':LogisticRegression()}\n",
    "\n",
    "try:\n",
    "    training_alg['model'].fit(X_train, y_train, \n",
    "        early_stopping_rounds=10,\n",
    "        eval_metric='merror',\n",
    "        eval_set=[(X_test, y_test)])\n",
    "        \n",
    "except TypeError:\n",
    "    training_alg['model'].fit(X_train, y_train)\n",
    "\n",
    "training_score = cross_val_score(training_alg['model'], X_train, y_train, cv=5, scoring='accuracy') \n",
    "avg_score = round(np.mean(training_score) * 100, 2)\n",
    "\n",
    "print(f\"Training score: {training_score}\")\n",
    "print(f\"Average score: {avg_score}\")"
   ]
  }
 ],
 "metadata": {
  "kernelspec": {
   "display_name": "Python 3 (ipykernel)",
   "language": "python",
   "name": "python3"
  },
  "language_info": {
   "codemirror_mode": {
    "name": "ipython",
    "version": 3
   },
   "file_extension": ".py",
   "mimetype": "text/x-python",
   "name": "python",
   "nbconvert_exporter": "python",
   "pygments_lexer": "ipython3",
   "version": "3.11.8"
  }
 },
 "nbformat": 4,
 "nbformat_minor": 5
}
