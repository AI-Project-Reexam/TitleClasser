{
 "cells": [
  {
   "cell_type": "code",
   "execution_count": 2,
   "id": "8f3cbbbd",
   "metadata": {},
   "outputs": [],
   "source": [
    "import pandas as pd\n",
    "import spacy\n",
    "import re\n",
    "import sqlite3\n",
    "\n",
    "con = sqlite3.connect(\"dataset.db\")\n",
    "cur = con.cursor()"
   ]
  },
  {
   "cell_type": "code",
   "execution_count": 3,
   "id": "dc512a97",
   "metadata": {},
   "outputs": [],
   "source": [
    "nlp = spacy.load(\"en_core_web_sm\")\n",
    "\n",
    "def preprocess_text(txt:str):\n",
    "    txt = re.sub('[^a-zA-Z]', ' ', txt) \n",
    "    txt = txt.lower()\n",
    "    txt = \" \".join(txt.split()) \n",
    "    \n",
    "    doc = nlp(txt)\n",
    "    \n",
    "    tokens_filtered = []\n",
    "    # Iterate through tokens and append to list if its not stop word or punctuation mark\n",
    "    for token in doc:\n",
    "        if token.is_stop or token.is_punct:\n",
    "            continue\n",
    "        tokens_filtered.append(token.lemma_)\n",
    "        \n",
    "    return \" \".join(tokens_filtered)"
   ]
  },
  {
   "cell_type": "code",
   "execution_count": 4,
   "id": "47bfd777",
   "metadata": {},
   "outputs": [
    {
     "name": "stdout",
     "output_type": "stream",
     "text": [
      "Preprocessing done\n"
     ]
    },
    {
     "data": {
      "text/html": [
       "<div>\n",
       "<style scoped>\n",
       "    .dataframe tbody tr th:only-of-type {\n",
       "        vertical-align: middle;\n",
       "    }\n",
       "\n",
       "    .dataframe tbody tr th {\n",
       "        vertical-align: top;\n",
       "    }\n",
       "\n",
       "    .dataframe thead th {\n",
       "        text-align: right;\n",
       "    }\n",
       "</style>\n",
       "<table border=\"1\" class=\"dataframe\">\n",
       "  <thead>\n",
       "    <tr style=\"text-align: right;\">\n",
       "      <th></th>\n",
       "      <th>Text</th>\n",
       "      <th>Label</th>\n",
       "      <th>prep_text</th>\n",
       "    </tr>\n",
       "  </thead>\n",
       "  <tbody>\n",
       "    <tr>\n",
       "      <th>0</th>\n",
       "      <td>Budget to set scene for election  Gordon Brown...</td>\n",
       "      <td>0</td>\n",
       "      <td>budget set scene election gordon brown seek ec...</td>\n",
       "    </tr>\n",
       "    <tr>\n",
       "      <th>1</th>\n",
       "      <td>Army chiefs in regiments decision  Military ch...</td>\n",
       "      <td>0</td>\n",
       "      <td>army chief regiment decision military chief ex...</td>\n",
       "    </tr>\n",
       "    <tr>\n",
       "      <th>2</th>\n",
       "      <td>Howard denies split over ID cards  Michael How...</td>\n",
       "      <td>0</td>\n",
       "      <td>howard deny split d card michael howard deny s...</td>\n",
       "    </tr>\n",
       "    <tr>\n",
       "      <th>3</th>\n",
       "      <td>Observers to monitor UK election  Ministers wi...</td>\n",
       "      <td>0</td>\n",
       "      <td>observer monitor uk election minister invite i...</td>\n",
       "    </tr>\n",
       "    <tr>\n",
       "      <th>4</th>\n",
       "      <td>Kilroy names election seat target  Ex-chat sho...</td>\n",
       "      <td>0</td>\n",
       "      <td>kilroy name election seat target ex chat host ...</td>\n",
       "    </tr>\n",
       "  </tbody>\n",
       "</table>\n",
       "</div>"
      ],
      "text/plain": [
       "                                                Text  Label  \\\n",
       "0  Budget to set scene for election  Gordon Brown...      0   \n",
       "1  Army chiefs in regiments decision  Military ch...      0   \n",
       "2  Howard denies split over ID cards  Michael How...      0   \n",
       "3  Observers to monitor UK election  Ministers wi...      0   \n",
       "4  Kilroy names election seat target  Ex-chat sho...      0   \n",
       "\n",
       "                                           prep_text  \n",
       "0  budget set scene election gordon brown seek ec...  \n",
       "1  army chief regiment decision military chief ex...  \n",
       "2  howard deny split d card michael howard deny s...  \n",
       "3  observer monitor uk election minister invite i...  \n",
       "4  kilroy name election seat target ex chat host ...  "
      ]
     },
     "execution_count": 4,
     "metadata": {},
     "output_type": "execute_result"
    }
   ],
   "source": [
    "# Load data\n",
    "df = pd.read_csv('df_file.csv')\n",
    "df['Text'] = df['Text'].apply(lambda x:x.replace('\\n',''))\n",
    "\n",
    "df.drop_duplicates(ignore_index = True, inplace=True)\n",
    "\n",
    "df['prep_text'] = df['Text'].apply(preprocess_text)\n",
    "print(\"Preprocessing done\")\n",
    "\n",
    "df.head()"
   ]
  },
  {
   "cell_type": "code",
   "execution_count": 5,
   "id": "054f18f1",
   "metadata": {},
   "outputs": [
    {
     "data": {
      "text/plain": [
       "<sqlite3.Cursor at 0x75ba5e51f2c0>"
      ]
     },
     "execution_count": 5,
     "metadata": {},
     "output_type": "execute_result"
    }
   ],
   "source": [
    "cur.execute(\"\"\"\n",
    "CREATE TABLE IF NOT EXISTS Dataset(\n",
    "    text TEXT,\n",
    "    prep_text TEXT,\n",
    "    label ITEGER\n",
    ")\n",
    "\"\"\")"
   ]
  },
  {
   "cell_type": "code",
   "execution_count": 6,
   "id": "a3f98b7d-2892-48a5-b547-7ad93ec4b7c4",
   "metadata": {},
   "outputs": [
    {
     "ename": "ProgrammingError",
     "evalue": "Error binding parameter 1: type 'Series' is not supported",
     "output_type": "error",
     "traceback": [
      "\u001b[0;31m---------------------------------------------------------------------------\u001b[0m",
      "\u001b[0;31mProgrammingError\u001b[0m                          Traceback (most recent call last)",
      "Cell \u001b[0;32mIn[6], line 6\u001b[0m\n\u001b[1;32m      3\u001b[0m \u001b[38;5;28;01mfor\u001b[39;00m index, row \u001b[38;5;129;01min\u001b[39;00m df\u001b[38;5;241m.\u001b[39miterrows():\n\u001b[1;32m      4\u001b[0m     articles\u001b[38;5;241m.\u001b[39mappend((df[\u001b[38;5;124m\"\u001b[39m\u001b[38;5;124mText\u001b[39m\u001b[38;5;124m\"\u001b[39m], df[\u001b[38;5;124m\"\u001b[39m\u001b[38;5;124mprep_text\u001b[39m\u001b[38;5;124m\"\u001b[39m], df[\u001b[38;5;124m\"\u001b[39m\u001b[38;5;124mLabel\u001b[39m\u001b[38;5;124m\"\u001b[39m]))\n\u001b[0;32m----> 6\u001b[0m cur\u001b[38;5;241m.\u001b[39mexecutemany(\u001b[38;5;124m\"\u001b[39m\u001b[38;5;124mINSERT INTO Dataset VALUES(?, ?, ?)\u001b[39m\u001b[38;5;124m\"\u001b[39m, articles)\n\u001b[1;32m      7\u001b[0m con\u001b[38;5;241m.\u001b[39mcommit()\n\u001b[1;32m      9\u001b[0m \u001b[38;5;28mprint\u001b[39m(\u001b[38;5;124m\"\u001b[39m\u001b[38;5;124mDone\u001b[39m\u001b[38;5;124m\"\u001b[39m)\n",
      "\u001b[0;31mProgrammingError\u001b[0m: Error binding parameter 1: type 'Series' is not supported"
     ]
    }
   ],
   "source": [
    "articles = []\n",
    "\n",
    "for index, row in df.iterrows():\n",
    "    articles.append((row[\"Text\"], row[\"prep_text\"], row[\"Label\"]))\n",
    "\n",
    "cur.executemany(\"INSERT INTO Dataset VALUES(?, ?, ?)\", articles)\n",
    "con.commit()\n",
    "\n",
    "print(\"Done\")\n"
   ]
  }
 ],
 "metadata": {
  "kernelspec": {
   "display_name": "Python 3 (ipykernel)",
   "language": "python",
   "name": "python3"
  },
  "language_info": {
   "codemirror_mode": {
    "name": "ipython",
    "version": 3
   },
   "file_extension": ".py",
   "mimetype": "text/x-python",
   "name": "python",
   "nbconvert_exporter": "python",
   "pygments_lexer": "ipython3",
   "version": "3.11.8"
  }
 },
 "nbformat": 4,
 "nbformat_minor": 5
}
