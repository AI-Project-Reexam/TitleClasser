{
 "cells": [
  {
   "cell_type": "code",
   "execution_count": 1,
   "id": "f9fd2029",
   "metadata": {},
   "outputs": [
    {
     "data": {
      "text/html": [
       "<div>\n",
       "<style scoped>\n",
       "    .dataframe tbody tr th:only-of-type {\n",
       "        vertical-align: middle;\n",
       "    }\n",
       "\n",
       "    .dataframe tbody tr th {\n",
       "        vertical-align: top;\n",
       "    }\n",
       "\n",
       "    .dataframe thead th {\n",
       "        text-align: right;\n",
       "    }\n",
       "</style>\n",
       "<table border=\"1\" class=\"dataframe\">\n",
       "  <thead>\n",
       "    <tr style=\"text-align: right;\">\n",
       "      <th></th>\n",
       "      <th>Text</th>\n",
       "      <th>Label</th>\n",
       "    </tr>\n",
       "  </thead>\n",
       "  <tbody>\n",
       "    <tr>\n",
       "      <th>0</th>\n",
       "      <td>Budget to set scene for election  Gordon Brown...</td>\n",
       "      <td>0</td>\n",
       "    </tr>\n",
       "    <tr>\n",
       "      <th>1</th>\n",
       "      <td>Army chiefs in regiments decision  Military ch...</td>\n",
       "      <td>0</td>\n",
       "    </tr>\n",
       "    <tr>\n",
       "      <th>2</th>\n",
       "      <td>Howard denies split over ID cards  Michael How...</td>\n",
       "      <td>0</td>\n",
       "    </tr>\n",
       "    <tr>\n",
       "      <th>3</th>\n",
       "      <td>Observers to monitor UK election  Ministers wi...</td>\n",
       "      <td>0</td>\n",
       "    </tr>\n",
       "    <tr>\n",
       "      <th>4</th>\n",
       "      <td>Kilroy names election seat target  Ex-chat sho...</td>\n",
       "      <td>0</td>\n",
       "    </tr>\n",
       "  </tbody>\n",
       "</table>\n",
       "</div>"
      ],
      "text/plain": [
       "                                                Text  Label\n",
       "0  Budget to set scene for election  Gordon Brown...      0\n",
       "1  Army chiefs in regiments decision  Military ch...      0\n",
       "2  Howard denies split over ID cards  Michael How...      0\n",
       "3  Observers to monitor UK election  Ministers wi...      0\n",
       "4  Kilroy names election seat target  Ex-chat sho...      0"
      ]
     },
     "execution_count": 1,
     "metadata": {},
     "output_type": "execute_result"
    }
   ],
   "source": [
    "import numpy as np\n",
    "import pandas as pd\n",
    "import matplotlib.pyplot as plt\n",
    "import seaborn as sns\n",
    "import warnings\n",
    "\n",
    "plt.rcParams[\"figure.figsize\"] = [10, 5]\n",
    "\n",
    "df=pd.read_csv('df_file.csv')\n",
    "\n",
    "df['Text'] = df['Text'].apply(lambda x:x.replace('\\n',''))\n",
    "df.head()"
   ]
  },
  {
   "cell_type": "code",
   "execution_count": 2,
   "id": "1184707c",
   "metadata": {},
   "outputs": [
    {
     "data": {
      "text/plain": [
       "(2225, 2)"
      ]
     },
     "execution_count": 2,
     "metadata": {},
     "output_type": "execute_result"
    }
   ],
   "source": [
    "df.shape"
   ]
  },
  {
   "cell_type": "code",
   "execution_count": 3,
   "id": "80a573e4",
   "metadata": {},
   "outputs": [],
   "source": [
    "import re\n",
    "import nltk\n",
    "from nltk.corpus import stopwords\n",
    "from nltk.tokenize import word_tokenize,sent_tokenize\n",
    "from nltk.stem import PorterStemmer\n",
    "from nltk.stem import WordNetLemmatizer\n",
    "from sklearn.feature_extraction.text import CountVectorizer,TfidfVectorizer\n",
    "import warnings"
   ]
  },
  {
   "cell_type": "code",
   "execution_count": 4,
   "id": "f887759c",
   "metadata": {},
   "outputs": [
    {
     "name": "stdout",
     "output_type": "stream",
     "text": [
      "Number of unique values in each column\n",
      "Text - 2127\n",
      "Label - 5\n",
      "\n",
      "Number of missing values:\n",
      " Text     0\n",
      "Label    0\n",
      "dtype: int64\n",
      "Number of duplicated rows:\n",
      " 98\n"
     ]
    }
   ],
   "source": [
    "print('Number of unique values in each column')\n",
    "\n",
    "for column in df.columns:\n",
    "    print(f'{column} - {df[column].nunique()}')\n",
    "    \n",
    "print('\\nNumber of missing values:\\n', df.isnull().sum(), end=\"\")\n",
    "print('\\nNumber of duplicated rows:\\n', df.duplicated().sum())"
   ]
  },
  {
   "cell_type": "code",
   "execution_count": 5,
   "id": "25119ea9",
   "metadata": {},
   "outputs": [
    {
     "name": "stdout",
     "output_type": "stream",
     "text": [
      "Length of the dataset after removing duplicate rows: 2127\n"
     ]
    }
   ],
   "source": [
    "df.drop_duplicates(ignore_index = True, inplace=True)\n",
    "\n",
    "print('Length of the dataset after removing duplicate rows:', len(df))"
   ]
  },
  {
   "cell_type": "code",
   "execution_count": 6,
   "id": "1d2c8dbc",
   "metadata": {},
   "outputs": [
    {
     "data": {
      "image/png": "[encoded data removed]",
      "text/plain": [
       "<Figure size 1000x500 with 1 Axes>"
      ]
     },
     "metadata": {},
     "output_type": "display_data"
    }
   ],
   "source": [
    "categories = df['Label'].value_counts().reset_index(name='Count')\n",
    "labels = []\n",
    "frequencies = []\n",
    "\n",
    "for i in categories[\"index\"]:\n",
    "    labels.append(i)\n",
    "\n",
    "for i in categories[\"Count\"]:\n",
    "    frequencies.append(i / 2127)\n",
    "\n",
    "plt.pie(frequencies, labels=labels, autopct='%1.1f%%')\n",
    "plt.title(\"Frequency of lables in the dataset\")\n",
    "plt.show()"
   ]
  },
  {
   "cell_type": "code",
   "execution_count": 7,
   "id": "af2e911c",
   "metadata": {},
   "outputs": [],
   "source": [
    "import spacy\n",
    "\n",
    "nlp = spacy.load(\"en_core_web_sm\")"
   ]
  },
  {
   "cell_type": "code",
   "execution_count": 8,
   "id": "5b42e290",
   "metadata": {},
   "outputs": [],
   "source": [
    "import re\n",
    "\n",
    "def preprocess_text(txt:str):\n",
    "    txt = re.sub('[^a-zA-Z]', ' ', txt) \n",
    "    txt = txt.lower()\n",
    "    txt = \" \".join(txt.split()) \n",
    "    \n",
    "    doc = nlp(txt)\n",
    "    \n",
    "    tokens_filtered = []\n",
    "    # Iterate through tokens and append to list if its not stop word or punctuation mark\n",
    "    for token in doc:\n",
    "        if token.is_stop or token.is_punct:\n",
    "            continue\n",
    "        tokens_filtered.append(token.lemma_)\n",
    "        \n",
    "    return \" \".join(tokens_filtered)"
   ]
  },
  {
   "cell_type": "code",
   "execution_count": 9,
   "id": "a2ae15ed",
   "metadata": {},
   "outputs": [
    {
     "data": {
      "text/html": [
       "<div>\n",
       "<style scoped>\n",
       "    .dataframe tbody tr th:only-of-type {\n",
       "        vertical-align: middle;\n",
       "    }\n",
       "\n",
       "    .dataframe tbody tr th {\n",
       "        vertical-align: top;\n",
       "    }\n",
       "\n",
       "    .dataframe thead th {\n",
       "        text-align: right;\n",
       "    }\n",
       "</style>\n",
       "<table border=\"1\" class=\"dataframe\">\n",
       "  <thead>\n",
       "    <tr style=\"text-align: right;\">\n",
       "      <th></th>\n",
       "      <th>Text</th>\n",
       "      <th>Label</th>\n",
       "      <th>prep_text</th>\n",
       "    </tr>\n",
       "  </thead>\n",
       "  <tbody>\n",
       "    <tr>\n",
       "      <th>0</th>\n",
       "      <td>Budget to set scene for election  Gordon Brown...</td>\n",
       "      <td>0</td>\n",
       "      <td>budget set scene election gordon brown seek ec...</td>\n",
       "    </tr>\n",
       "    <tr>\n",
       "      <th>1</th>\n",
       "      <td>Army chiefs in regiments decision  Military ch...</td>\n",
       "      <td>0</td>\n",
       "      <td>army chief regiment decision military chief ex...</td>\n",
       "    </tr>\n",
       "    <tr>\n",
       "      <th>2</th>\n",
       "      <td>Howard denies split over ID cards  Michael How...</td>\n",
       "      <td>0</td>\n",
       "      <td>howard deny split d card michael howard deny s...</td>\n",
       "    </tr>\n",
       "    <tr>\n",
       "      <th>3</th>\n",
       "      <td>Observers to monitor UK election  Ministers wi...</td>\n",
       "      <td>0</td>\n",
       "      <td>observer monitor uk election minister invite i...</td>\n",
       "    </tr>\n",
       "    <tr>\n",
       "      <th>4</th>\n",
       "      <td>Kilroy names election seat target  Ex-chat sho...</td>\n",
       "      <td>0</td>\n",
       "      <td>kilroy name election seat target ex chat host ...</td>\n",
       "    </tr>\n",
       "  </tbody>\n",
       "</table>\n",
       "</div>"
      ],
      "text/plain": [
       "                                                Text  Label  \\\n",
       "0  Budget to set scene for election  Gordon Brown...      0   \n",
       "1  Army chiefs in regiments decision  Military ch...      0   \n",
       "2  Howard denies split over ID cards  Michael How...      0   \n",
       "3  Observers to monitor UK election  Ministers wi...      0   \n",
       "4  Kilroy names election seat target  Ex-chat sho...      0   \n",
       "\n",
       "                                           prep_text  \n",
       "0  budget set scene election gordon brown seek ec...  \n",
       "1  army chief regiment decision military chief ex...  \n",
       "2  howard deny split d card michael howard deny s...  \n",
       "3  observer monitor uk election minister invite i...  \n",
       "4  kilroy name election seat target ex chat host ...  "
      ]
     },
     "execution_count": 9,
     "metadata": {},
     "output_type": "execute_result"
    }
   ],
   "source": [
    "df['prep_text'] = df['Text'].apply(preprocess_text)\n",
    "df.head()"
   ]
  },
  {
   "cell_type": "code",
   "execution_count": 10,
   "id": "05ae71ba",
   "metadata": {},
   "outputs": [
    {
     "data": {
      "image/png": "[encoded data removed]",
      "text/plain": [
       "<Figure size 1800x400 with 1 Axes>"
      ]
     },
     "metadata": {},
     "output_type": "display_data"
    }
   ],
   "source": [
    "seq_len = []\n",
    "\n",
    "for txt in df.prep_text:\n",
    "    seq_len.append(len(txt.split()))\n",
    "    \n",
    "plt.figure(figsize = (18, 4))\n",
    "sns.histplot(seq_len, kde = True, line_kws = {'linewidth': 2.3})\n",
    "sns.rugplot(seq_len)\n",
    "plt.title('Count of Sequence lengths')\n",
    "plt.xlabel('Categories')\n",
    "plt.ylabel('Length of the Sequence')\n",
    "plt.grid(True)\n",
    "plt.show()"
   ]
  },
  {
   "cell_type": "code",
   "execution_count": null,
   "id": "111a6773",
   "metadata": {},
   "outputs": [],
   "source": [
    "from sklearn.feature_extraction.text import TfidfVectorizer\n",
    "\n",
    "vectorizer = TfidfVectorizer(sublinear_tf=True, min_df=5,ngram_range=(1, 2), stop_words='english')\n",
    "\n",
    "# Transform preprocessed text into TF-IDF features\n",
    "features = vectorizer.fit_transform(df['prep_text']).toarray()"
   ]
  },
  {
   "cell_type": "code",
   "execution_count": null,
   "id": "be491d76",
   "metadata": {},
   "outputs": [],
   "source": [
    "from sklearn.model_selection import train_test_split\n",
    "\n",
    "X = features\n",
    "y = df['Label']\n",
    "\n",
    "X_train, X_test, y_train, y_test = train_test_split(X, y, test_size = 0.2, stratify = y)\n",
    "\n",
    "print(f'Rows used in training: {len(X_train)}')\n",
    "print(f'Rows used in evaluation: {len(X_test)}')"
   ]
  },
  {
   "cell_type": "code",
   "execution_count": null,
   "id": "322bcd71",
   "metadata": {},
   "outputs": [],
   "source": [
    "y_train_vals = []\n",
    "train_labels = []\n",
    "\n",
    "y_test_vals = []\n",
    "test_labels = []\n",
    "\n",
    "for i in range(len(y_train.unique())):\n",
    "    y_train_vals.append(round(y_train.value_counts()[i]/len(y_train) * 100,2))\n",
    "    train_labels.append(y_train.unique()[i])\n",
    "\n",
    "for i in range(len(y_test.unique())):\n",
    "    y_test_vals.append(round(y_test.value_counts()[i]/len(y_test) * 100,2))\n",
    "    test_labels.append(y_test.unique()[i])"
   ]
  },
  {
   "cell_type": "code",
   "execution_count": null,
   "id": "b4d61359",
   "metadata": {},
   "outputs": [],
   "source": [
    "# Create subplots\n",
    "fig, axs = plt.subplots(1, 2, figsize=(8, 4), dpi=144)\n",
    "\n",
    "# Plot for training dataset\n",
    "axs[0].pie(y_train_vals, labels=train_labels, autopct='%1.1f%%', startangle=90)\n",
    "axs[0].set_title('Training Dataset')\n",
    "\n",
    "# Plot for test dataset\n",
    "axs[1].pie(y_test_vals, labels=test_labels, autopct='%1.1f%%', startangle=90)\n",
    "axs[1].set_title('Test Dataset')\n",
    "\n",
    "plt.show()"
   ]
  },
  {
   "cell_type": "code",
   "execution_count": null,
   "id": "b14ee4bb",
   "metadata": {},
   "outputs": [],
   "source": [
    "from sklearn.linear_model import LogisticRegression\n",
    "from sklearn.tree import DecisionTreeClassifier\n",
    "from sklearn.ensemble import RandomForestClassifier\n",
    "\n",
    "classifiers = {\n",
    "    \"LogisiticRegression\": {'model':LogisticRegression()},\n",
    "    \"DecisionTreeClassifier\": {'model':DecisionTreeClassifier()},\n",
    "    \"Random Forest Classifier\": {'model':RandomForestClassifier()},\n",
    "}\n",
    "\n",
    "categories = {'Politics':0,'Sport':1, 'Technology':2,'Entertainment':3,'Business':4}"
   ]
  },
  {
   "cell_type": "code",
   "execution_count": null,
   "id": "9ed28be0",
   "metadata": {},
   "outputs": [],
   "source": [
    "from sklearn.model_selection import cross_val_score\n",
    "\n",
    "scores = {}\n",
    "\n",
    "for key, alg in classifiers.items():\n",
    "    try:\n",
    "        alg['model'].fit(X_train, y_train, \n",
    "                early_stopping_rounds=10,\n",
    "                eval_metric='merror',\n",
    "                eval_set=[(X_test, y_test)])\n",
    "    except TypeError:\n",
    "        alg['model'].fit(X_train, y_train)\n",
    "        \n",
    "    training_score = cross_val_score(alg['model'], X_train, y_train, cv=5, scoring='accuracy') \n",
    "    scores[key] = round(training_score.mean() * 100, 2) \n",
    "    \n",
    "fig, ax = plt.subplots(figsize=(12, 4))\n",
    "bars = ax.bar(scores.keys(), scores.values())\n",
    "ax.bar_label(bars, label_type=\"edge\")\n",
    "plt.ylim(0, 100)\n",
    "plt.show()"
   ]
  },
  {
   "cell_type": "code",
   "execution_count": null,
   "id": "5e6b382c",
   "metadata": {},
   "outputs": [],
   "source": [
    "from sklearn import metrics\n",
    "\n",
    "classifiers[max(scores, key=scores.get)]['model'].fit(X_train, y_train)\n",
    "y_pred = classifiers['LogisiticRegression']['model'].predict(X_test)\n",
    "\n",
    "print('Metrics (Logistic Regression)\\n')\n",
    "print(metrics.classification_report(y_test, y_pred, target_names= categories.keys()))"
   ]
  },
  {
   "cell_type": "code",
   "execution_count": null,
   "id": "21daa6ec",
   "metadata": {},
   "outputs": [],
   "source": []
  }
 ],
 "metadata": {
  "kernelspec": {
   "display_name": "Python 3 (ipykernel)",
   "language": "python",
   "name": "python3"
  },
  "language_info": {
   "codemirror_mode": {
    "name": "ipython",
    "version": 3
   },
   "file_extension": ".py",
   "mimetype": "text/x-python",
   "name": "python",
   "nbconvert_exporter": "python",
   "pygments_lexer": "ipython3",
   "version": "3.11.4"
  }
 },
 "nbformat": 4,
 "nbformat_minor": 5
}
